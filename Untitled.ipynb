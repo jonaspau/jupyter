{
 "cells": [
  {
   "cell_type": "markdown",
   "id": "606eb590-a9cf-4a3a-84c2-3c03325d53f8",
   "metadata": {},
   "source": [
    "## Conditional statements"
   ]
  },
  {
   "cell_type": "markdown",
   "id": "241355d9-9dc8-44c7-a943-da3f96e00826",
   "metadata": {},
   "source": [
    "### If statements\n",
    "\n",
    "Returns a value if a condition is fulfilled"
   ]
  },
  {
   "cell_type": "code",
   "execution_count": 2,
   "id": "757ff751-06c4-4688-80bb-f544213d7fee",
   "metadata": {},
   "outputs": [],
   "source": [
    "def eval_temp(temp):\n",
    "    # Set an initial message\n",
    "    message = \"Normal temperature.\"\n",
    "    # Update value of message only if temperature greater than 38\n",
    "    if temp > 38:\n",
    "        message = \"Fever!\"\n",
    "    return message"
   ]
  },
  {
   "cell_type": "markdown",
   "id": "be9750a9-f5ba-46b7-ae07-e8ca13fdc48b",
   "metadata": {},
   "source": [
    "### If Else\n",
    "\n",
    "Retusrns a value if a condition is fulfilled, or another if not"
   ]
  },
  {
   "cell_type": "code",
   "execution_count": 5,
   "id": "389d955a-b714-43a9-8498-1c39236f8695",
   "metadata": {},
   "outputs": [],
   "source": [
    "def eval_else(temp):\n",
    "    if temp > 38:\n",
    "        message = \"Fever!\"\n",
    "    else:\n",
    "        message = \"Normal temperature.\"\n",
    "    return message"
   ]
  },
  {
   "cell_type": "markdown",
   "id": "8d30d113-94a3-4ba2-810c-4121275fd22f",
   "metadata": {},
   "source": [
    "### Elif\n",
    "\n",
    "Prints a value if a condition is fulfilled, reevaluates with elif if not, and prints a last value if no if, elif is fulfilled"
   ]
  },
  {
   "cell_type": "code",
   "execution_count": 10,
   "id": "816e12be-46a6-48d5-88dd-51032f97782f",
   "metadata": {},
   "outputs": [],
   "source": [
    "def eval_elif(resp):\n",
    "    if resp > 18:\n",
    "        msg = \"High\"\n",
    "    elif resp > 12:\n",
    "        msg = \"Normal\"\n",
    "    else:\n",
    "        msg = \"Low\"\n",
    "    return msg"
   ]
  },
  {
   "cell_type": "markdown",
   "id": "45f096ba-fc39-49e5-b2d4-21b421924309",
   "metadata": {},
   "source": [
    "## Conditionals excercises"
   ]
  },
  {
   "cell_type": "markdown",
   "id": "f86e578f-c2be-43df-93e9-ff89c7ef497a",
   "metadata": {},
   "source": [
    "### Calculate grades"
   ]
  },
  {
   "cell_type": "code",
   "execution_count": 17,
   "id": "b4b1bcaf-d9f9-44cf-81e3-0926a9a0b39f",
   "metadata": {},
   "outputs": [
    {
     "name": "stdout",
     "output_type": "stream",
     "text": [
      "A\n"
     ]
    }
   ],
   "source": [
    "def get_grade(score):\n",
    "    if score >= 90:\n",
    "        grade = \"A\"\n",
    "    elif score >= 80:\n",
    "        grade = \"B\"\n",
    "    elif score >= 70:\n",
    "        grade = \"C\"\n",
    "    elif score >= 60:\n",
    "        grade = \"D\"\n",
    "    else:\n",
    "        grade = \"F\"\n",
    "    return grade\n",
    "\n",
    "print(get_grade(90))"
   ]
  },
  {
   "cell_type": "markdown",
   "id": "073abc57-4586-44d4-98fd-f529215c3403",
   "metadata": {},
   "source": [
    "### Calculate ring cost"
   ]
  },
  {
   "cell_type": "code",
   "execution_count": 19,
   "id": "306045ce-aab4-4b2c-bfc5-38e41399ffe9",
   "metadata": {},
   "outputs": [
    {
     "name": "stdout",
     "output_type": "stream",
     "text": [
      "150\n"
     ]
    }
   ],
   "source": [
    "def cost_of_project(engraving, solid_gold):\n",
    "    if solid_gold == True:\n",
    "        cost = 100 + len(engraving) * 10\n",
    "    else:\n",
    "        cost = 50 + len(engraving) * 7\n",
    "    return cost\n",
    "\n",
    "print(cost_of_project(\"Hello\", True)) "
   ]
  },
  {
   "cell_type": "markdown",
   "id": "a88b2baf-4136-4b10-89b8-9d52eb746a5d",
   "metadata": {},
   "source": [
    "### Water bill"
   ]
  },
  {
   "cell_type": "code",
   "execution_count": 25,
   "id": "0b402c98-5d4e-44e7-aecb-2da4afa6ed06",
   "metadata": {},
   "outputs": [
    {
     "name": "stdout",
     "output_type": "stream",
     "text": [
      "39.995\n",
      "40.0\n",
      "48.006\n"
     ]
    }
   ],
   "source": [
    "def get_water_bill(num_gallons):\n",
    "    if num_gallons <= 8000:\n",
    "        cost = num_gallons * 5 / 1000\n",
    "    elif num_gallons <= 22000:\n",
    "        cost = num_gallons * 6 / 1000\n",
    "    elif num_gallons <= 30000:\n",
    "        cost = num_gallons * 7 / 1000\n",
    "    else:\n",
    "        cost = num_gallons * 10 / 1000\n",
    "    return cost\n",
    "\n",
    "\n",
    "print(get_water_bill(7999))\n",
    "print(get_water_bill(8000))\n",
    "print(get_water_bill(8001))"
   ]
  }
 ],
 "metadata": {
  "kernelspec": {
   "display_name": "Python 3 (ipykernel)",
   "language": "python",
   "name": "python3"
  },
  "language_info": {
   "codemirror_mode": {
    "name": "ipython",
    "version": 3
   },
   "file_extension": ".py",
   "mimetype": "text/x-python",
   "name": "python",
   "nbconvert_exporter": "python",
   "pygments_lexer": "ipython3",
   "version": "3.8.17"
  }
 },
 "nbformat": 4,
 "nbformat_minor": 5
}
