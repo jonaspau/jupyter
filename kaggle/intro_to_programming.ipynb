{
 "cells": [
  {
   "cell_type": "markdown",
   "id": "606eb590-a9cf-4a3a-84c2-3c03325d53f8",
   "metadata": {},
   "source": [
    "## Conditional statements"
   ]
  },
  {
   "cell_type": "markdown",
   "id": "241355d9-9dc8-44c7-a943-da3f96e00826",
   "metadata": {},
   "source": [
    "### If statements\n",
    "\n",
    "Returns a value if a condition is fulfilled"
   ]
  },
  {
   "cell_type": "code",
   "execution_count": 2,
   "id": "757ff751-06c4-4688-80bb-f544213d7fee",
   "metadata": {},
   "outputs": [],
   "source": [
    "def eval_temp(temp):\n",
    "    # Set an initial message\n",
    "    message = \"Normal temperature.\"\n",
    "    # Update value of message only if temperature greater than 38\n",
    "    if temp > 38:\n",
    "        message = \"Fever!\"\n",
    "    return message"
   ]
  },
  {
   "cell_type": "markdown",
   "id": "be9750a9-f5ba-46b7-ae07-e8ca13fdc48b",
   "metadata": {},
   "source": [
    "### If Else\n",
    "\n",
    "Retusrns a value if a condition is fulfilled, or another if not"
   ]
  },
  {
   "cell_type": "code",
   "execution_count": 5,
   "id": "389d955a-b714-43a9-8498-1c39236f8695",
   "metadata": {},
   "outputs": [],
   "source": [
    "def eval_else(temp):\n",
    "    if temp > 38:\n",
    "        message = \"Fever!\"\n",
    "    else:\n",
    "        message = \"Normal temperature.\"\n",
    "    return message"
   ]
  },
  {
   "cell_type": "markdown",
   "id": "8d30d113-94a3-4ba2-810c-4121275fd22f",
   "metadata": {},
   "source": [
    "### Elif\n",
    "\n",
    "Prints a value if a condition is fulfilled, reevaluates with elif if not, and prints a last value if no if, elif is fulfilled"
   ]
  },
  {
   "cell_type": "code",
   "execution_count": 10,
   "id": "816e12be-46a6-48d5-88dd-51032f97782f",
   "metadata": {},
   "outputs": [],
   "source": [
    "def eval_elif(resp):\n",
    "    if resp > 18:\n",
    "        msg = \"High\"\n",
    "    elif resp > 12:\n",
    "        msg = \"Normal\"\n",
    "    else:\n",
    "        msg = \"Low\"\n",
    "    return msg"
   ]
  },
  {
   "cell_type": "markdown",
   "id": "45f096ba-fc39-49e5-b2d4-21b421924309",
   "metadata": {},
   "source": [
    "### Conditionals excercises"
   ]
  },
  {
   "cell_type": "markdown",
   "id": "f86e578f-c2be-43df-93e9-ff89c7ef497a",
   "metadata": {},
   "source": [
    "#### Calculate grades"
   ]
  },
  {
   "cell_type": "code",
   "execution_count": 17,
   "id": "b4b1bcaf-d9f9-44cf-81e3-0926a9a0b39f",
   "metadata": {},
   "outputs": [
    {
     "name": "stdout",
     "output_type": "stream",
     "text": [
      "A\n"
     ]
    }
   ],
   "source": [
    "def get_grade(score):\n",
    "    if score >= 90:\n",
    "        grade = \"A\"\n",
    "    elif score >= 80:\n",
    "        grade = \"B\"\n",
    "    elif score >= 70:\n",
    "        grade = \"C\"\n",
    "    elif score >= 60:\n",
    "        grade = \"D\"\n",
    "    else:\n",
    "        grade = \"F\"\n",
    "    return grade\n",
    "\n",
    "print(get_grade(90))"
   ]
  },
  {
   "cell_type": "markdown",
   "id": "073abc57-4586-44d4-98fd-f529215c3403",
   "metadata": {},
   "source": [
    "#### Calculate ring cost"
   ]
  },
  {
   "cell_type": "code",
   "execution_count": 19,
   "id": "306045ce-aab4-4b2c-bfc5-38e41399ffe9",
   "metadata": {},
   "outputs": [
    {
     "name": "stdout",
     "output_type": "stream",
     "text": [
      "150\n"
     ]
    }
   ],
   "source": [
    "def cost_of_project(engraving, solid_gold):\n",
    "    if solid_gold == True:\n",
    "        cost = 100 + len(engraving) * 10\n",
    "    else:\n",
    "        cost = 50 + len(engraving) * 7\n",
    "    return cost\n",
    "\n",
    "print(cost_of_project(\"Hello\", True)) "
   ]
  },
  {
   "cell_type": "markdown",
   "id": "a88b2baf-4136-4b10-89b8-9d52eb746a5d",
   "metadata": {},
   "source": [
    "#### Water bill"
   ]
  },
  {
   "cell_type": "code",
   "execution_count": 19,
   "id": "0b402c98-5d4e-44e7-aecb-2da4afa6ed06",
   "metadata": {},
   "outputs": [],
   "source": [
    "def get_water_bill(num_gallons):\n",
    "    if num_gallons <= 8000:\n",
    "        cost = num_gallons * 5 / 1000\n",
    "    elif num_gallons <= 22000:\n",
    "        cost = num_gallons * 6 / 1000\n",
    "    elif num_gallons <= 30000:\n",
    "        cost = num_gallons * 7 / 1000\n",
    "    else:\n",
    "        cost = num_gallons * 10 / 1000\n",
    "    return cost"
   ]
  },
  {
   "cell_type": "markdown",
   "id": "dd4fa331-d638-46b1-9ab7-11050d6fd0b8",
   "metadata": {},
   "source": [
    "#### Phone bill"
   ]
  },
  {
   "cell_type": "code",
   "execution_count": 20,
   "id": "ca9d7957-abc4-4492-bd57-86cb39d273b1",
   "metadata": {
    "editable": true,
    "slideshow": {
     "slide_type": ""
    },
    "tags": []
   },
   "outputs": [
    {
     "name": "stdout",
     "output_type": "stream",
     "text": [
      "109.99999999999997\n"
     ]
    }
   ],
   "source": [
    "def get_phone_bill(gb):\n",
    "    if gb > 15:\n",
    "        bill = 100 + (gb -15) * 100\n",
    "    else:\n",
    "        bill = 100\n",
    "    return bill\n",
    "\n",
    "print(get_phone_bill(15.1))"
   ]
  },
  {
   "cell_type": "markdown",
   "id": "dbbdd03a-9977-47dc-af77-fe75d13ab7ae",
   "metadata": {},
   "source": [
    "## Lists"
   ]
  },
  {
   "cell_type": "markdown",
   "id": "76363803-3d6e-4c6c-b617-abd4813e8c9e",
   "metadata": {
    "editable": true,
    "slideshow": {
     "slide_type": ""
    },
    "tags": []
   },
   "source": [
    "Lists are collections of one-dimentional data. We use lists because they are simpler to work with than long text strings.\n",
    "\n",
    "lists are added by naming the list and adding the list intems as separate strings within a set of square brackets:"
   ]
  },
  {
   "cell_type": "code",
   "execution_count": 28,
   "id": "837b3d60-5f25-4203-98ab-ad5c27921292",
   "metadata": {
    "editable": true,
    "slideshow": {
     "slide_type": ""
    },
    "tags": []
   },
   "outputs": [],
   "source": [
    "flowers_list = [\"pink primrose\", \"hard-leaved pocket orchid\", \"canterbury bells\", \"sweet pea\", \"english marigold\", \"tiger lily\", \"moon orchid\", \"bird of paradise\", \"monkshood\", \"globe thistle\"]"
   ]
  },
  {
   "cell_type": "markdown",
   "id": "b6b1ed7a-c2f7-4518-bf8a-d46fa4e92d48",
   "metadata": {},
   "source": [
    "Using lists rather than strings lets us get items by position, count the items and add or remove items"
   ]
  },
  {
   "cell_type": "markdown",
   "id": "a4588c2b-b460-400e-84f1-3d1d8e8ff292",
   "metadata": {},
   "source": [
    "### Methods"
   ]
  },
  {
   "cell_type": "code",
   "execution_count": 29,
   "id": "e7a5239f-cfd0-4e22-bf04-b96916339ca2",
   "metadata": {},
   "outputs": [
    {
     "name": "stdout",
     "output_type": "stream",
     "text": [
      "10\n"
     ]
    }
   ],
   "source": [
    "# Count items\n",
    "print(len(flowers_list))"
   ]
  },
  {
   "cell_type": "code",
   "execution_count": 36,
   "id": "5040e46f-276e-4898-b5c2-f579a6ce1c03",
   "metadata": {},
   "outputs": [
    {
     "name": "stdout",
     "output_type": "stream",
     "text": [
      "First: pink primrose\n",
      "Second: hard-leaved pocket orchid\n",
      "Last (9): globe thistle\n",
      "Last (-1): globe thistle\n",
      "First 3: ['pink primrose', 'hard-leaved pocket orchid', 'canterbury bells']\n",
      "Last 2: ['monkshood', 'globe thistle']\n",
      "4 and 5:  ['sweet pea', 'english marigold']\n"
     ]
    }
   ],
   "source": [
    "# Indexing\n",
    "print(\"First:\", flowers_list[0])\n",
    "print(\"Second:\", flowers_list[1])\n",
    "print(\"Last (9):\", flowers_list[9])\n",
    "print(\"Last (-1):\", flowers_list[-1])\n",
    "\n",
    "## Slicing\n",
    "print(\"First 3:\", flowers_list[:3])\n",
    "print(\"Last 2:\", flowers_list[-2:])\n",
    "print(\"4 and 5: \", flowers_list[3:5])"
   ]
  },
  {
   "cell_type": "code",
   "execution_count": 40,
   "id": "6a327b10-8d10-4f61-be84-f68173ab7317",
   "metadata": {},
   "outputs": [
    {
     "name": "stdout",
     "output_type": "stream",
     "text": [
      "['pink primrose', 'hard-leaved pocket orchid', 'canterbury bells', 'english marigold', 'tiger lily', 'moon orchid', 'bird of paradise', 'monkshood', 'globe thistle']\n"
     ]
    }
   ],
   "source": [
    "# Remove\n",
    "flowers_list.remove(\"sweet pea\")\n",
    "\n",
    "print(flowers_list)"
   ]
  },
  {
   "cell_type": "code",
   "execution_count": 41,
   "id": "0f9ff3c9-dfa3-4036-9e6c-187ff6ebb809",
   "metadata": {},
   "outputs": [
    {
     "name": "stdout",
     "output_type": "stream",
     "text": [
      "['pink primrose', 'hard-leaved pocket orchid', 'canterbury bells', 'english marigold', 'tiger lily', 'moon orchid', 'bird of paradise', 'monkshood', 'globe thistle', 'sweet pea']\n"
     ]
    }
   ],
   "source": [
    "# Add\n",
    "flowers_list.append(\"sweet pea\")\n",
    "\n",
    "print(flowers_list)"
   ]
  },
  {
   "cell_type": "code",
   "execution_count": 46,
   "id": "c6920d0a-e732-4a47-a99b-01b14f318403",
   "metadata": {},
   "outputs": [
    {
     "name": "stdout",
     "output_type": "stream",
     "text": [
      "128\n",
      "191\n",
      "1107\n",
      "769\n"
     ]
    }
   ],
   "source": [
    "# Working with numbers in lists\n",
    "\n",
    "sales = [139, 128, 172, 139, 191, 168, 170]\n",
    "\n",
    "print(min(sales))\n",
    "print(max(sales))\n",
    "print(sum(sales))\n",
    "print(sum(sales[:5]))"
   ]
  },
  {
   "cell_type": "markdown",
   "id": "dfd97aa7-2853-4531-9808-a29fcd62a225",
   "metadata": {},
   "source": [
    "### Lists Excercises"
   ]
  },
  {
   "cell_type": "markdown",
   "id": "281d291e-95b7-48a1-acd6-cd403715e203",
   "metadata": {},
   "source": [
    "#### Append and remove"
   ]
  },
  {
   "cell_type": "code",
   "execution_count": null,
   "id": "85b623a9-3167-42ed-917d-d180c2d517a0",
   "metadata": {},
   "outputs": [],
   "source": [
    "# Do not change: Initial menu for your restaurant\n",
    "menu = ['stewed meat with onions', 'bean soup', 'risotto with trout and shrimp',\n",
    "       'fish soup with cream and onion', 'gyro']\n",
    "\n",
    "# TODO: remove 'bean soup', and add 'roasted beet salad' to the end of the menu\n",
    "menu.remove(\"bean soup\")\n",
    "menu.append(\"roasted beet salad\")"
   ]
  },
  {
   "cell_type": "markdown",
   "id": "ea00e93d-6aa5-433f-92e6-f042061961e5",
   "metadata": {},
   "source": [
    "#### Working with numbers"
   ]
  },
  {
   "cell_type": "code",
   "execution_count": null,
   "id": "ed975c19-0bd3-476f-8b0f-7a48156ed827",
   "metadata": {},
   "outputs": [],
   "source": [
    "# Do not change: Number of customers each day for the last month\n",
    "num_customers = [137, 147, 135, 128, 170, 174, 165, 146, 126, 159,\n",
    "                 141, 148, 132, 147, 168, 153, 170, 161, 148, 152,\n",
    "                 141, 151, 131, 149, 164, 163, 143, 143, 166, 171]\n",
    "\n",
    "# TODO: Fill in values for the variables below\n",
    "avg_first_seven = sum(num_customers[:7]) / 7 \n",
    "avg_last_seven = sum(num_customers[-7:]) / 7\n",
    "max_month = max(num_customers)\n",
    "min_month = min(num_customers)"
   ]
  },
  {
   "cell_type": "markdown",
   "id": "b0cd93e7-ec2e-44a0-8cdd-a2bd28b045a0",
   "metadata": {},
   "source": [
    "#### Parsing a string to a list"
   ]
  },
  {
   "cell_type": "code",
   "execution_count": null,
   "id": "8024aa53-ac2b-4cf3-be23-848c6479c893",
   "metadata": {},
   "outputs": [],
   "source": [
    "# Do not change: Initial menu for your restaurant\n",
    "menu = ['stewed meat with onions', 'bean soup', 'risotto with trout and shrimp',\n",
    "       'fish soup with cream and onion', 'gyro']\n",
    "\n",
    "# TODO: remove 'bean soup', and add 'roasted beet salad' to the end of the menu\n",
    "\n",
    "menu.remove(\"bean soup\")\n",
    "menu.append(\"roasted beet salad\")"
   ]
  },
  {
   "cell_type": "markdown",
   "id": "5d168fdd-1ac5-49cd-8643-7f403b251081",
   "metadata": {},
   "source": [
    "#### Working with calculations"
   ]
  },
  {
   "cell_type": "code",
   "execution_count": 47,
   "id": "0fe175a2-ad1b-4057-99d3-d1f9f4615963",
   "metadata": {},
   "outputs": [
    {
     "data": {
      "text/plain": [
       "0.5"
      ]
     },
     "execution_count": 47,
     "metadata": {},
     "output_type": "execute_result"
    }
   ],
   "source": [
    "def percentage_liked(ratings):\n",
    "    list_liked = [i>=4 for i in ratings]\n",
    "    # TODO: Complete the function\n",
    "    percentage_liked = sum(list_liked) / len(ratings)\n",
    "    return percentage_liked\n",
    "\n",
    "# Do not change: should return 0.5\n",
    "percentage_liked([1, 2, 3, 4, 5, 4, 5, 1])"
   ]
  },
  {
   "cell_type": "code",
   "execution_count": null,
   "id": "68c95b5c-431b-4d40-96a5-dfa4b3d2c841",
   "metadata": {},
   "outputs": [],
   "source": [
    "def percentage_growth(num_users, yrs_ago):\n",
    "    growth = (num_users[len(num_users)-1] - num_users[len(num_users) - yrs_ago - 1])/num_users[len(num_users) - yrs_ago - 1]\n",
    "    return growth\n",
    "\n",
    "# Do not change: Variable for calculating some test examples\n",
    "num_users_test = [920344, 1043553, 1204334, 1458996, 1503323, 1593432, 1623463, 1843064, 1930992, 2001078]\n",
    "\n",
    "# Do not change: Should return .036\n",
    "print(percentage_growth(num_users_test, 1))\n",
    "\n",
    "# Do not change: Should return 0.66\n",
    "print(percentage_growth(num_users_test, 7))"
   ]
  }
 ],
 "metadata": {
  "kernelspec": {
   "display_name": "Python 3 (ipykernel)",
   "language": "python",
   "name": "python3"
  },
  "language_info": {
   "codemirror_mode": {
    "name": "ipython",
    "version": 3
   },
   "file_extension": ".py",
   "mimetype": "text/x-python",
   "name": "python",
   "nbconvert_exporter": "python",
   "pygments_lexer": "ipython3",
   "version": "3.8.17"
  }
 },
 "nbformat": 4,
 "nbformat_minor": 5
}
