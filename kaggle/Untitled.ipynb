{
 "cells": [
  {
   "cell_type": "markdown",
   "id": "d82b0ea0-0c7c-4d5a-8fd4-78aae388230c",
   "metadata": {},
   "source": [
    "# Data Visualization"
   ]
  },
  {
   "cell_type": "markdown",
   "id": "d7e3ad61-3d9d-43b6-8f20-18d016bcf558",
   "metadata": {},
   "source": [
    "## Hello Seaborn"
   ]
  },
  {
   "cell_type": "markdown",
   "id": "74db25e8-78dd-428a-9f37-4bffc4e53ca5",
   "metadata": {},
   "source": [
    "Seaborn lets us plot graphs easily with python.\n",
    "\n",
    "to use seaborn the following code may be run:"
   ]
  },
  {
   "cell_type": "code",
   "execution_count": 3,
   "id": "156aeb50-baf1-4dce-80ee-28589917f652",
   "metadata": {},
   "outputs": [
    {
     "name": "stdout",
     "output_type": "stream",
     "text": [
      "Setup Complete\n"
     ]
    }
   ],
   "source": [
    "import pandas as pd\n",
    "pd.plotting.register_matplotlib_converters()\n",
    "import matplotlib.pyplot as plt\n",
    "%matplotlib inline\n",
    "import seaborn as sns\n",
    "print(\"Setup Complete\")"
   ]
  }
 ],
 "metadata": {
  "kernelspec": {
   "display_name": "Python 3 (ipykernel)",
   "language": "python",
   "name": "python3"
  },
  "language_info": {
   "codemirror_mode": {
    "name": "ipython",
    "version": 3
   },
   "file_extension": ".py",
   "mimetype": "text/x-python",
   "name": "python",
   "nbconvert_exporter": "python",
   "pygments_lexer": "ipython3",
   "version": "3.8.17"
  }
 },
 "nbformat": 4,
 "nbformat_minor": 5
}
