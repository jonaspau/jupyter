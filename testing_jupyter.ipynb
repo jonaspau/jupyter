{
 "cells": [
  {
   "cell_type": "markdown",
   "id": "85328afd-d1d1-416d-b17c-8e7ce5faf2b8",
   "metadata": {
    "editable": true,
    "slideshow": {
     "slide_type": ""
    },
    "tags": []
   },
   "source": [
    "# Testing jupyter"
   ]
  },
  {
   "cell_type": "markdown",
   "id": "8a76ffc2-7383-4ffb-b155-485b0d0d2cc6",
   "metadata": {},
   "source": [
    "Use markdown to make notes.\n",
    "\n",
    "- Shortcut to enter command mode: ESC \n",
    "- Shortcut to enter code mode: Enter\n",
    "\n",
    "In Command mode, use the shortcut M to convert a cell to Markdown, use Y to convert to code."
   ]
  },
  {
   "cell_type": "code",
   "execution_count": 31,
   "id": "919fe17a-3c05-4dc3-b252-9181b7e1cbb0",
   "metadata": {},
   "outputs": [
    {
     "name": "stdout",
     "output_type": "stream",
     "text": [
      "Hello World\n"
     ]
    }
   ],
   "source": [
    "# Python is run normally inside the code cells by using cmd, shift or alt and Enter\n",
    "print(\"Hello World\")"
   ]
  },
  {
   "cell_type": "code",
   "execution_count": 32,
   "id": "7be50112-9e80-48e6-8b7a-66821a68300c",
   "metadata": {},
   "outputs": [
    {
     "name": "stdout",
     "output_type": "stream",
     "text": [
      "Untitled.ipynb        \u001b[34mpandas-tutorial\u001b[m\u001b[m       testing_jupyter.ipynb\n"
     ]
    }
   ],
   "source": [
    "# Using an exclamation point lets you run bash commands in the notebook:\n",
    "!ls"
   ]
  },
  {
   "cell_type": "code",
   "execution_count": 33,
   "id": "94495804-0dc3-485f-991f-e2a5c82f5357",
   "metadata": {},
   "outputs": [
    {
     "data": {
      "application/json": {
       "cell": {
        "!": "OSMagics",
        "HTML": "Other",
        "SVG": "Other",
        "bash": "Other",
        "capture": "ExecutionMagics",
        "code_wrap": "ExecutionMagics",
        "debug": "ExecutionMagics",
        "file": "Other",
        "html": "DisplayMagics",
        "javascript": "DisplayMagics",
        "js": "DisplayMagics",
        "latex": "DisplayMagics",
        "markdown": "DisplayMagics",
        "perl": "Other",
        "prun": "ExecutionMagics",
        "pypy": "Other",
        "python": "Other",
        "python2": "Other",
        "python3": "Other",
        "ruby": "Other",
        "script": "ScriptMagics",
        "sh": "Other",
        "svg": "DisplayMagics",
        "sx": "OSMagics",
        "system": "OSMagics",
        "time": "ExecutionMagics",
        "timeit": "ExecutionMagics",
        "writefile": "OSMagics"
       },
       "line": {
        "alias": "OSMagics",
        "alias_magic": "BasicMagics",
        "autoawait": "AsyncMagics",
        "autocall": "AutoMagics",
        "automagic": "AutoMagics",
        "autosave": "KernelMagics",
        "bookmark": "OSMagics",
        "cat": "Other",
        "cd": "OSMagics",
        "clear": "KernelMagics",
        "code_wrap": "ExecutionMagics",
        "colors": "BasicMagics",
        "conda": "PackagingMagics",
        "config": "ConfigMagics",
        "connect_info": "KernelMagics",
        "cp": "Other",
        "debug": "ExecutionMagics",
        "dhist": "OSMagics",
        "dirs": "OSMagics",
        "doctest_mode": "BasicMagics",
        "ed": "Other",
        "edit": "KernelMagics",
        "env": "OSMagics",
        "gui": "BasicMagics",
        "hist": "Other",
        "history": "HistoryMagics",
        "killbgscripts": "ScriptMagics",
        "ldir": "Other",
        "less": "KernelMagics",
        "lf": "Other",
        "lk": "Other",
        "ll": "Other",
        "load": "CodeMagics",
        "load_ext": "ExtensionMagics",
        "loadpy": "CodeMagics",
        "logoff": "LoggingMagics",
        "logon": "LoggingMagics",
        "logstart": "LoggingMagics",
        "logstate": "LoggingMagics",
        "logstop": "LoggingMagics",
        "ls": "Other",
        "lsmagic": "BasicMagics",
        "lx": "Other",
        "macro": "ExecutionMagics",
        "magic": "BasicMagics",
        "man": "KernelMagics",
        "matplotlib": "PylabMagics",
        "mkdir": "Other",
        "more": "KernelMagics",
        "mv": "Other",
        "notebook": "BasicMagics",
        "page": "BasicMagics",
        "pastebin": "CodeMagics",
        "pdb": "ExecutionMagics",
        "pdef": "NamespaceMagics",
        "pdoc": "NamespaceMagics",
        "pfile": "NamespaceMagics",
        "pinfo": "NamespaceMagics",
        "pinfo2": "NamespaceMagics",
        "pip": "PackagingMagics",
        "popd": "OSMagics",
        "pprint": "BasicMagics",
        "precision": "BasicMagics",
        "prun": "ExecutionMagics",
        "psearch": "NamespaceMagics",
        "psource": "NamespaceMagics",
        "pushd": "OSMagics",
        "pwd": "OSMagics",
        "pycat": "OSMagics",
        "pylab": "PylabMagics",
        "qtconsole": "KernelMagics",
        "quickref": "BasicMagics",
        "recall": "HistoryMagics",
        "rehashx": "OSMagics",
        "reload_ext": "ExtensionMagics",
        "rep": "Other",
        "rerun": "HistoryMagics",
        "reset": "NamespaceMagics",
        "reset_selective": "NamespaceMagics",
        "rm": "Other",
        "rmdir": "Other",
        "run": "ExecutionMagics",
        "save": "CodeMagics",
        "sc": "OSMagics",
        "set_env": "OSMagics",
        "store": "StoreMagics",
        "sx": "OSMagics",
        "system": "OSMagics",
        "tb": "ExecutionMagics",
        "time": "ExecutionMagics",
        "timeit": "ExecutionMagics",
        "unalias": "OSMagics",
        "unload_ext": "ExtensionMagics",
        "who": "NamespaceMagics",
        "who_ls": "NamespaceMagics",
        "whos": "NamespaceMagics",
        "xdel": "NamespaceMagics",
        "xmode": "BasicMagics"
       }
      },
      "text/plain": [
       "Available line magics:\n",
       "%alias  %alias_magic  %autoawait  %autocall  %automagic  %autosave  %bookmark  %cat  %cd  %clear  %code_wrap  %colors  %conda  %config  %connect_info  %cp  %debug  %dhist  %dirs  %doctest_mode  %ed  %edit  %env  %gui  %hist  %history  %killbgscripts  %ldir  %less  %lf  %lk  %ll  %load  %load_ext  %loadpy  %logoff  %logon  %logstart  %logstate  %logstop  %ls  %lsmagic  %lx  %macro  %magic  %man  %matplotlib  %mkdir  %more  %mv  %notebook  %page  %pastebin  %pdb  %pdef  %pdoc  %pfile  %pinfo  %pinfo2  %pip  %popd  %pprint  %precision  %prun  %psearch  %psource  %pushd  %pwd  %pycat  %pylab  %qtconsole  %quickref  %recall  %rehashx  %reload_ext  %rep  %rerun  %reset  %reset_selective  %rm  %rmdir  %run  %save  %sc  %set_env  %store  %sx  %system  %tb  %time  %timeit  %unalias  %unload_ext  %who  %who_ls  %whos  %xdel  %xmode\n",
       "\n",
       "Available cell magics:\n",
       "%%!  %%HTML  %%SVG  %%bash  %%capture  %%code_wrap  %%debug  %%file  %%html  %%javascript  %%js  %%latex  %%markdown  %%perl  %%prun  %%pypy  %%python  %%python2  %%python3  %%ruby  %%script  %%sh  %%svg  %%sx  %%system  %%time  %%timeit  %%writefile\n",
       "\n",
       "Automagic is ON, % prefix IS NOT needed for line magics."
      ]
     },
     "execution_count": 33,
     "metadata": {},
     "output_type": "execute_result"
    }
   ],
   "source": [
    "# Using the % sign is used for \"magic commands\"\n",
    "%lsmagic"
   ]
  },
  {
   "cell_type": "code",
   "execution_count": 34,
   "id": "0b534cea-fa8b-4292-a82f-ddd4e7df19e5",
   "metadata": {},
   "outputs": [
    {
     "data": {
      "text/plain": [
       "'/Users/jonaspaulsen/Documents/GitHub/jupyter-tutorial'"
      ]
     },
     "execution_count": 34,
     "metadata": {},
     "output_type": "execute_result"
    }
   ],
   "source": [
    "%pwd"
   ]
  },
  {
   "cell_type": "code",
   "execution_count": 35,
   "id": "843ffe5c-fd01-48a7-9c5f-11edfaf748e5",
   "metadata": {},
   "outputs": [
    {
     "name": "stdout",
     "output_type": "stream",
     "text": [
      "total 168\n",
      "drwxr-xr-x   8 jonaspaulsen  staff    256 Oct 12 11:42 \u001b[34m.\u001b[m\u001b[m/\n",
      "drwxr-xr-x@ 22 jonaspaulsen  staff    704 Oct 12 08:53 \u001b[34m..\u001b[m\u001b[m/\n",
      "-rw-r--r--@  1 jonaspaulsen  staff   6148 Oct 12 10:37 .DS_Store\n",
      "drwxr-xr-x   4 jonaspaulsen  staff    128 Oct 12 11:29 \u001b[34m.ipynb_checkpoints\u001b[m\u001b[m/\n",
      "drwxr-xr-x   5 jonaspaulsen  staff    160 Oct 12 11:32 \u001b[34m.virtual_documents\u001b[m\u001b[m/\n",
      "-rw-r--r--   1 jonaspaulsen  staff    706 Oct 12 11:39 Untitled.ipynb\n",
      "drwxr-xr-x   6 jonaspaulsen  staff    192 Oct 12 11:34 \u001b[34mpandas-tutorial\u001b[m\u001b[m/\n",
      "-rw-r--r--   1 jonaspaulsen  staff  70308 Oct 12 11:42 testing_jupyter.ipynb\n"
     ]
    }
   ],
   "source": [
    "%ls -la"
   ]
  },
  {
   "cell_type": "code",
   "execution_count": 36,
   "id": "5cef24d7-5709-4496-8b3e-166ffd0274df",
   "metadata": {},
   "outputs": [],
   "source": [
    "%matplotlib inline"
   ]
  },
  {
   "cell_type": "code",
   "execution_count": 37,
   "id": "eec732b9-469a-48fd-8038-244259f8ac61",
   "metadata": {},
   "outputs": [
    {
     "data": {
      "image/png": "[encoded data removed]",
      "text/plain": [
       "<Figure size 640x480 with 1 Axes>"
      ]
     },
     "metadata": {},
     "output_type": "display_data"
    }
   ],
   "source": [
    "\"\"\"\n",
    "Simple demo of a scatter plot (randomly generated) \n",
    "\"\"\"\n",
    "\n",
    "import numpy as np\n",
    "import matplotlib.pyplot as plt\n",
    "\n",
    "N = 50\n",
    "x = np.random.rand(N)\n",
    "y = np.random.rand(N)\n",
    "colors = np.random.rand(N)\n",
    "area = np.pi * (15 * np.random.rand(N))**2\n",
    "\n",
    "plt.scatter(x, y, s=area, c=colors, alpha=0.5)\n",
    "plt.show()"
   ]
  },
  {
   "cell_type": "code",
   "execution_count": 38,
   "id": "98dc5275-14cb-4e75-a8c8-09daddd8e280",
   "metadata": {
    "editable": true,
    "slideshow": {
     "slide_type": ""
    },
    "tags": []
   },
   "outputs": [
    {
     "data": {
      "text/html": [
       "<div>\n",
       "<style scoped>\n",
       "    .dataframe tbody tr th:only-of-type {\n",
       "        vertical-align: middle;\n",
       "    }\n",
       "\n",
       "    .dataframe tbody tr th {\n",
       "        vertical-align: top;\n",
       "    }\n",
       "\n",
       "    .dataframe thead th {\n",
       "        text-align: right;\n",
       "    }\n",
       "</style>\n",
       "<table border=\"1\" class=\"dataframe\">\n",
       "  <thead>\n",
       "    <tr style=\"text-align: right;\">\n",
       "      <th></th>\n",
       "      <th>0</th>\n",
       "      <th>1</th>\n",
       "      <th>2</th>\n",
       "      <th>3</th>\n",
       "      <th>4</th>\n",
       "    </tr>\n",
       "  </thead>\n",
       "  <tbody>\n",
       "    <tr>\n",
       "      <th>0</th>\n",
       "      <td>-2.310548</td>\n",
       "      <td>-1.304829</td>\n",
       "      <td>-0.114819</td>\n",
       "      <td>-0.492547</td>\n",
       "      <td>-0.952137</td>\n",
       "    </tr>\n",
       "    <tr>\n",
       "      <th>1</th>\n",
       "      <td>-1.320470</td>\n",
       "      <td>-3.077727</td>\n",
       "      <td>-0.638148</td>\n",
       "      <td>-1.116792</td>\n",
       "      <td>1.514475</td>\n",
       "    </tr>\n",
       "    <tr>\n",
       "      <th>2</th>\n",
       "      <td>-0.579365</td>\n",
       "      <td>1.122497</td>\n",
       "      <td>-0.352725</td>\n",
       "      <td>-2.080429</td>\n",
       "      <td>-0.618567</td>\n",
       "    </tr>\n",
       "    <tr>\n",
       "      <th>3</th>\n",
       "      <td>0.403863</td>\n",
       "      <td>0.577151</td>\n",
       "      <td>1.251014</td>\n",
       "      <td>0.714687</td>\n",
       "      <td>-0.697838</td>\n",
       "    </tr>\n",
       "    <tr>\n",
       "      <th>4</th>\n",
       "      <td>-0.368504</td>\n",
       "      <td>-0.415856</td>\n",
       "      <td>1.459048</td>\n",
       "      <td>0.573497</td>\n",
       "      <td>1.147148</td>\n",
       "    </tr>\n",
       "    <tr>\n",
       "      <th>5</th>\n",
       "      <td>0.359415</td>\n",
       "      <td>1.195273</td>\n",
       "      <td>1.201007</td>\n",
       "      <td>-3.012447</td>\n",
       "      <td>-0.191984</td>\n",
       "    </tr>\n",
       "    <tr>\n",
       "      <th>6</th>\n",
       "      <td>0.040924</td>\n",
       "      <td>0.279617</td>\n",
       "      <td>-0.285355</td>\n",
       "      <td>0.618784</td>\n",
       "      <td>-0.408432</td>\n",
       "    </tr>\n",
       "    <tr>\n",
       "      <th>7</th>\n",
       "      <td>-1.826572</td>\n",
       "      <td>1.602126</td>\n",
       "      <td>0.065361</td>\n",
       "      <td>1.435536</td>\n",
       "      <td>0.182462</td>\n",
       "    </tr>\n",
       "    <tr>\n",
       "      <th>8</th>\n",
       "      <td>0.190213</td>\n",
       "      <td>-0.118790</td>\n",
       "      <td>1.946820</td>\n",
       "      <td>0.739804</td>\n",
       "      <td>0.162004</td>\n",
       "    </tr>\n",
       "    <tr>\n",
       "      <th>9</th>\n",
       "      <td>-0.649664</td>\n",
       "      <td>-0.948659</td>\n",
       "      <td>-0.785029</td>\n",
       "      <td>-2.761072</td>\n",
       "      <td>0.020185</td>\n",
       "    </tr>\n",
       "  </tbody>\n",
       "</table>\n",
       "</div>"
      ],
      "text/plain": [
       "          0         1         2         3         4\n",
       "0 -2.310548 -1.304829 -0.114819 -0.492547 -0.952137\n",
       "1 -1.320470 -3.077727 -0.638148 -1.116792  1.514475\n",
       "2 -0.579365  1.122497 -0.352725 -2.080429 -0.618567\n",
       "3  0.403863  0.577151  1.251014  0.714687 -0.697838\n",
       "4 -0.368504 -0.415856  1.459048  0.573497  1.147148\n",
       "5  0.359415  1.195273  1.201007 -3.012447 -0.191984\n",
       "6  0.040924  0.279617 -0.285355  0.618784 -0.408432\n",
       "7 -1.826572  1.602126  0.065361  1.435536  0.182462\n",
       "8  0.190213 -0.118790  1.946820  0.739804  0.162004\n",
       "9 -0.649664 -0.948659 -0.785029 -2.761072  0.020185"
      ]
     },
     "execution_count": 38,
     "metadata": {},
     "output_type": "execute_result"
    }
   ],
   "source": [
    "\"\"\"\n",
    "Showing a dataframe directly\n",
    "\"\"\"\n",
    "\n",
    "import pandas as pd\n",
    "import numpy as np\n",
    "\n",
    "df = pd.DataFrame(np.random.randn(10,5))\n",
    "df"
   ]
  },
  {
   "cell_type": "code",
   "execution_count": null,
   "id": "ca7fed7f-5e83-4dbc-8e4d-e8f56a23dd78",
   "metadata": {
    "editable": true,
    "slideshow": {
     "slide_type": ""
    },
    "tags": []
   },
   "outputs": [],
   "source": []
  }
 ],
 "metadata": {
  "kernelspec": {
   "display_name": "Python 3 (ipykernel)",
   "language": "python",
   "name": "python3"
  },
  "language_info": {
   "codemirror_mode": {
    "name": "ipython",
    "version": 3
   },
   "file_extension": ".py",
   "mimetype": "text/x-python",
   "name": "python",
   "nbconvert_exporter": "python",
   "pygments_lexer": "ipython3",
   "version": "3.8.17"
  }
 },
 "nbformat": 4,
 "nbformat_minor": 5
}
